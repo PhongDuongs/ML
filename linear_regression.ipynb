{
 "cells": [
  {
   "cell_type": "markdown",
   "metadata": {
    "id": "ae78e63c"
   },
   "source": [
    "#Exercise\n",
    "This is a dataset related to how much money a person can get from a mortgage on his or her home. This dataset includes the following features:\n",
    "* Gender: Gender of the borrower (including two values 'F' and 'M')\n",
    "* Age: Age of the customer applying for a loan (including positive integer values)\n",
    "* Income (USD): Customer's income in USD (value is a positive number)\n",
    "* Income Stability: The level of customer's income stability (including three values of Low and High)\n",
    "* Property Age: Life expectancy of the house in days (including positive integer values)\n",
    "* Property Location: Location of the house (including 'Rural', 'Urban', and 'Semi-Urban')\n",
    "* Property Price: The value of the house in USD (including positive real values)\n",
    "* Loan Sanction Amount (USD): Amount that customers can borrow in USD (target value)\n",
    "\n",
    "Based on practice sample #1, proceed:\n",
    "1. Read data\n",
    "2. Visualize some information of data\n",
    "3. Normalize Data to train linear regression model\n",
    "4. Train linear regression model and show the model's intercepts, coeficients\n",
    "5. Learn on sklearn how to use Ridge, Lasso, and ElasticNet compare the error of all 3 algorithms with Linear Regression (https://scikit-learn.org/stable/index.html)\n",
    "6. Let's try Polynomial of order 2 to compare the previous results. What will the result be if we choose the n order too high?\n",
    "\n",
    "\n",
    "**Submission Link**: https://forms.gle/WKCJUp7noHAKALNP9 (Submit your .ipynb file)"
   ]
  },
  {
   "cell_type": "code",
   "execution_count": 1,
   "metadata": {
    "id": "mYV5QYEaZD5N"
   },
   "outputs": [],
   "source": [
    "# mount data from google drive to colab\n",
    "\n",
    "#import library\n",
    "import pandas as pd # pandas \n",
    "import numpy as np # numpy\n",
    "import time\n",
    "import matplotlib.pyplot as plt\n"
   ]
  },
  {
   "cell_type": "markdown",
   "metadata": {
    "id": "DWey3cHTb43g"
   },
   "source": [
    "# Prepare and Analyze Data\n",
    "\n",
    "1. Load Dataset\n",
    "2. Analyze Dataset\n",
    "3. Preprocess data (type, null, missing, ...)\n",
    "4. Feature Engineering"
   ]
  },
  {
   "cell_type": "markdown",
   "metadata": {
    "id": "5QJmB36JjdyC"
   },
   "source": [
    "## Load Dataset"
   ]
  },
  {
   "cell_type": "code",
   "execution_count": 2,
   "metadata": {
    "id": "b6967e88"
   },
   "outputs": [],
   "source": [
    "# read data using Pandas DataFrame\n",
    "def read_dataset(path):\n",
    "    # Todo: read_csv from a path and return a DataFrame\n",
    "    df = pd.read_csv(path)\n",
    "    display(df.head())\n",
    "    display(df.describe())\n",
    "    return df"
   ]
  },
  {
   "cell_type": "code",
   "execution_count": 3,
   "metadata": {
    "id": "bRSvpuUCfpDr"
   },
   "outputs": [
    {
     "data": {
      "text/html": [
       "<div>\n",
       "<style scoped>\n",
       "    .dataframe tbody tr th:only-of-type {\n",
       "        vertical-align: middle;\n",
       "    }\n",
       "\n",
       "    .dataframe tbody tr th {\n",
       "        vertical-align: top;\n",
       "    }\n",
       "\n",
       "    .dataframe thead th {\n",
       "        text-align: right;\n",
       "    }\n",
       "</style>\n",
       "<table border=\"1\" class=\"dataframe\">\n",
       "  <thead>\n",
       "    <tr style=\"text-align: right;\">\n",
       "      <th></th>\n",
       "      <th>Gender</th>\n",
       "      <th>Age</th>\n",
       "      <th>Income (USD)</th>\n",
       "      <th>Income Stability</th>\n",
       "      <th>Property Age</th>\n",
       "      <th>Property Location</th>\n",
       "      <th>Property Price</th>\n",
       "      <th>Loan Sanction Amount (USD)</th>\n",
       "    </tr>\n",
       "  </thead>\n",
       "  <tbody>\n",
       "    <tr>\n",
       "      <th>0</th>\n",
       "      <td>F</td>\n",
       "      <td>19</td>\n",
       "      <td>1641.25</td>\n",
       "      <td>Low</td>\n",
       "      <td>1651.25</td>\n",
       "      <td>Rural</td>\n",
       "      <td>59641.82</td>\n",
       "      <td>21026.420753</td>\n",
       "    </tr>\n",
       "    <tr>\n",
       "      <th>1</th>\n",
       "      <td>M</td>\n",
       "      <td>29</td>\n",
       "      <td>1989.71</td>\n",
       "      <td>Low</td>\n",
       "      <td>1990.71</td>\n",
       "      <td>Urban</td>\n",
       "      <td>179858.51</td>\n",
       "      <td>60595.183366</td>\n",
       "    </tr>\n",
       "    <tr>\n",
       "      <th>2</th>\n",
       "      <td>F</td>\n",
       "      <td>37</td>\n",
       "      <td>1849.91</td>\n",
       "      <td>Low</td>\n",
       "      <td>1856.91</td>\n",
       "      <td>Rural</td>\n",
       "      <td>117297.62</td>\n",
       "      <td>39181.648002</td>\n",
       "    </tr>\n",
       "    <tr>\n",
       "      <th>3</th>\n",
       "      <td>M</td>\n",
       "      <td>65</td>\n",
       "      <td>2735.18</td>\n",
       "      <td>High</td>\n",
       "      <td>2747.18</td>\n",
       "      <td>Rural</td>\n",
       "      <td>354417.72</td>\n",
       "      <td>128497.710865</td>\n",
       "    </tr>\n",
       "    <tr>\n",
       "      <th>4</th>\n",
       "      <td>F</td>\n",
       "      <td>62</td>\n",
       "      <td>4741.78</td>\n",
       "      <td>High</td>\n",
       "      <td>4740.78</td>\n",
       "      <td>Urban</td>\n",
       "      <td>82049.80</td>\n",
       "      <td>39386.919336</td>\n",
       "    </tr>\n",
       "  </tbody>\n",
       "</table>\n",
       "</div>"
      ],
      "text/plain": [
       "  Gender  Age  Income (USD) Income Stability  Property Age Property Location  \\\n",
       "0      F   19       1641.25              Low       1651.25             Rural   \n",
       "1      M   29       1989.71              Low       1990.71             Urban   \n",
       "2      F   37       1849.91              Low       1856.91             Rural   \n",
       "3      M   65       2735.18             High       2747.18             Rural   \n",
       "4      F   62       4741.78             High       4740.78             Urban   \n",
       "\n",
       "   Property Price  Loan Sanction Amount (USD)  \n",
       "0        59641.82                21026.420753  \n",
       "1       179858.51                60595.183366  \n",
       "2       117297.62                39181.648002  \n",
       "3       354417.72               128497.710865  \n",
       "4        82049.80                39386.919336  "
      ]
     },
     "metadata": {},
     "output_type": "display_data"
    },
    {
     "data": {
      "text/html": [
       "<div>\n",
       "<style scoped>\n",
       "    .dataframe tbody tr th:only-of-type {\n",
       "        vertical-align: middle;\n",
       "    }\n",
       "\n",
       "    .dataframe tbody tr th {\n",
       "        vertical-align: top;\n",
       "    }\n",
       "\n",
       "    .dataframe thead th {\n",
       "        text-align: right;\n",
       "    }\n",
       "</style>\n",
       "<table border=\"1\" class=\"dataframe\">\n",
       "  <thead>\n",
       "    <tr style=\"text-align: right;\">\n",
       "      <th></th>\n",
       "      <th>Age</th>\n",
       "      <th>Income (USD)</th>\n",
       "      <th>Property Age</th>\n",
       "      <th>Property Price</th>\n",
       "      <th>Loan Sanction Amount (USD)</th>\n",
       "    </tr>\n",
       "  </thead>\n",
       "  <tbody>\n",
       "    <tr>\n",
       "      <th>count</th>\n",
       "      <td>47297.000000</td>\n",
       "      <td>47265.000000</td>\n",
       "      <td>47263.000000</td>\n",
       "      <td>4.729700e+04</td>\n",
       "      <td>47297.000000</td>\n",
       "    </tr>\n",
       "    <tr>\n",
       "      <th>mean</th>\n",
       "      <td>40.000063</td>\n",
       "      <td>2586.684384</td>\n",
       "      <td>2586.611058</td>\n",
       "      <td>1.350880e+05</td>\n",
       "      <td>46487.229765</td>\n",
       "    </tr>\n",
       "    <tr>\n",
       "      <th>std</th>\n",
       "      <td>16.086128</td>\n",
       "      <td>1558.768809</td>\n",
       "      <td>1558.842286</td>\n",
       "      <td>9.457875e+04</td>\n",
       "      <td>32549.905634</td>\n",
       "    </tr>\n",
       "    <tr>\n",
       "      <th>min</th>\n",
       "      <td>18.000000</td>\n",
       "      <td>372.700000</td>\n",
       "      <td>370.700000</td>\n",
       "      <td>7.859620e+03</td>\n",
       "      <td>254.586578</td>\n",
       "    </tr>\n",
       "    <tr>\n",
       "      <th>25%</th>\n",
       "      <td>24.000000</td>\n",
       "      <td>1653.740000</td>\n",
       "      <td>1652.820000</td>\n",
       "      <td>6.250408e+04</td>\n",
       "      <td>21782.822159</td>\n",
       "    </tr>\n",
       "    <tr>\n",
       "      <th>50%</th>\n",
       "      <td>40.000000</td>\n",
       "      <td>2245.480000</td>\n",
       "      <td>2244.810000</td>\n",
       "      <td>1.130936e+05</td>\n",
       "      <td>38822.132402</td>\n",
       "    </tr>\n",
       "    <tr>\n",
       "      <th>75%</th>\n",
       "      <td>55.000000</td>\n",
       "      <td>3128.560000</td>\n",
       "      <td>3128.380000</td>\n",
       "      <td>1.819546e+05</td>\n",
       "      <td>62612.236905</td>\n",
       "    </tr>\n",
       "    <tr>\n",
       "      <th>max</th>\n",
       "      <td>65.000000</td>\n",
       "      <td>54662.750000</td>\n",
       "      <td>54647.750000</td>\n",
       "      <td>1.077967e+06</td>\n",
       "      <td>366131.165218</td>\n",
       "    </tr>\n",
       "  </tbody>\n",
       "</table>\n",
       "</div>"
      ],
      "text/plain": [
       "                Age  Income (USD)  Property Age  Property Price  \\\n",
       "count  47297.000000  47265.000000  47263.000000    4.729700e+04   \n",
       "mean      40.000063   2586.684384   2586.611058    1.350880e+05   \n",
       "std       16.086128   1558.768809   1558.842286    9.457875e+04   \n",
       "min       18.000000    372.700000    370.700000    7.859620e+03   \n",
       "25%       24.000000   1653.740000   1652.820000    6.250408e+04   \n",
       "50%       40.000000   2245.480000   2244.810000    1.130936e+05   \n",
       "75%       55.000000   3128.560000   3128.380000    1.819546e+05   \n",
       "max       65.000000  54662.750000  54647.750000    1.077967e+06   \n",
       "\n",
       "       Loan Sanction Amount (USD)  \n",
       "count                47297.000000  \n",
       "mean                 46487.229765  \n",
       "std                  32549.905634  \n",
       "min                    254.586578  \n",
       "25%                  21782.822159  \n",
       "50%                  38822.132402  \n",
       "75%                  62612.236905  \n",
       "max                 366131.165218  "
      ]
     },
     "metadata": {},
     "output_type": "display_data"
    },
    {
     "data": {
      "text/plain": [
       "<AxesSubplot:xlabel='Loan Sanction Amount (USD)', ylabel='Count'>"
      ]
     },
     "execution_count": 3,
     "metadata": {},
     "output_type": "execute_result"
    },
    {
     "data": {
      "image/png": "[encoded data removed]",
      "text/plain": [
       "<Figure size 640x480 with 1 Axes>"
      ]
     },
     "metadata": {},
     "output_type": "display_data"
    }
   ],
   "source": [
    "PATH = 'final_house_loan.csv' # Path to your file\n",
    "\n",
    "df = read_dataset(PATH)\n",
    "#ToDo: Show histogram of dataframe\n",
    "import seaborn as sns\n",
    "sns.histplot(x=\"Loan Sanction Amount (USD)\", data=df, bins=100)"
   ]
  },
  {
   "cell_type": "markdown",
   "metadata": {
    "id": "kLqfm42rjgO2"
   },
   "source": [
    "## Data Analysis"
   ]
  },
  {
   "cell_type": "code",
   "execution_count": 4,
   "metadata": {
    "id": "OZFahON289oe"
   },
   "outputs": [
    {
     "data": {
      "image/png": "[encoded data removed]",
      "text/plain": [
       "<Figure size 640x480 with 1 Axes>"
      ]
     },
     "metadata": {},
     "output_type": "display_data"
    }
   ],
   "source": [
    "# Data analysis\n",
    "# Todo: analyze your data here\n",
    "palette_color = sns.color_palette('bright')\n",
    "plt.pie(df['Property Location'].value_counts().values, labels=df['Property Location'].value_counts().index,colors=palette_color, autopct='%.0f%%')\n",
    "plt.show()"
   ]
  },
  {
   "cell_type": "code",
   "execution_count": 5,
   "metadata": {
    "scrolled": false
   },
   "outputs": [
    {
     "data": {
      "text/plain": [
       "<AxesSubplot:xlabel='Gender', ylabel='Count'>"
      ]
     },
     "execution_count": 5,
     "metadata": {},
     "output_type": "execute_result"
    },
    {
     "data": {
      "image/png": "[encoded data removed]",
      "text/plain": [
       "<Figure size 640x480 with 1 Axes>"
      ]
     },
     "metadata": {},
     "output_type": "display_data"
    }
   ],
   "source": [
    "sns.histplot(x='Gender',data=df,hue='Gender')"
   ]
  },
  {
   "cell_type": "code",
   "execution_count": 6,
   "metadata": {
    "scrolled": false
   },
   "outputs": [
    {
     "data": {
      "text/plain": [
       "<AxesSubplot:xlabel='Income Stability', ylabel='Count'>"
      ]
     },
     "execution_count": 6,
     "metadata": {},
     "output_type": "execute_result"
    },
    {
     "data": {
      "image/png": "[encoded data removed]",
      "text/plain": [
       "<Figure size 640x480 with 1 Axes>"
      ]
     },
     "metadata": {},
     "output_type": "display_data"
    }
   ],
   "source": [
    "sns.histplot(x='Income Stability',data=df,hue='Income Stability')"
   ]
  },
  {
   "cell_type": "markdown",
   "metadata": {
    "id": "FWQ3y3T2f32N"
   },
   "source": [
    "## Preprocessing"
   ]
  },
  {
   "cell_type": "code",
   "execution_count": 7,
   "metadata": {
    "id": "6f647dba"
   },
   "outputs": [],
   "source": [
    "def preprocessing_data(df):\n",
    "    # --- (Optional) Drop null datapoints or fill missing data\n",
    "    # Keep your data the same if you dont want to customize it\n",
    "    df = df.dropna()\n",
    "    return df"
   ]
  },
  {
   "cell_type": "code",
   "execution_count": 8,
   "metadata": {
    "id": "9KKiP3yd3m8t"
   },
   "outputs": [
    {
     "data": {
      "text/html": [
       "<div>\n",
       "<style scoped>\n",
       "    .dataframe tbody tr th:only-of-type {\n",
       "        vertical-align: middle;\n",
       "    }\n",
       "\n",
       "    .dataframe tbody tr th {\n",
       "        vertical-align: top;\n",
       "    }\n",
       "\n",
       "    .dataframe thead th {\n",
       "        text-align: right;\n",
       "    }\n",
       "</style>\n",
       "<table border=\"1\" class=\"dataframe\">\n",
       "  <thead>\n",
       "    <tr style=\"text-align: right;\">\n",
       "      <th></th>\n",
       "      <th>Gender</th>\n",
       "      <th>Age</th>\n",
       "      <th>Income (USD)</th>\n",
       "      <th>Income Stability</th>\n",
       "      <th>Property Age</th>\n",
       "      <th>Property Location</th>\n",
       "      <th>Property Price</th>\n",
       "      <th>Loan Sanction Amount (USD)</th>\n",
       "    </tr>\n",
       "  </thead>\n",
       "  <tbody>\n",
       "    <tr>\n",
       "      <th>0</th>\n",
       "      <td>F</td>\n",
       "      <td>19</td>\n",
       "      <td>1641.25</td>\n",
       "      <td>Low</td>\n",
       "      <td>1651.25</td>\n",
       "      <td>Rural</td>\n",
       "      <td>59641.82</td>\n",
       "      <td>21026.420753</td>\n",
       "    </tr>\n",
       "    <tr>\n",
       "      <th>1</th>\n",
       "      <td>M</td>\n",
       "      <td>29</td>\n",
       "      <td>1989.71</td>\n",
       "      <td>Low</td>\n",
       "      <td>1990.71</td>\n",
       "      <td>Urban</td>\n",
       "      <td>179858.51</td>\n",
       "      <td>60595.183366</td>\n",
       "    </tr>\n",
       "    <tr>\n",
       "      <th>2</th>\n",
       "      <td>F</td>\n",
       "      <td>37</td>\n",
       "      <td>1849.91</td>\n",
       "      <td>Low</td>\n",
       "      <td>1856.91</td>\n",
       "      <td>Rural</td>\n",
       "      <td>117297.62</td>\n",
       "      <td>39181.648002</td>\n",
       "    </tr>\n",
       "    <tr>\n",
       "      <th>3</th>\n",
       "      <td>M</td>\n",
       "      <td>65</td>\n",
       "      <td>2735.18</td>\n",
       "      <td>High</td>\n",
       "      <td>2747.18</td>\n",
       "      <td>Rural</td>\n",
       "      <td>354417.72</td>\n",
       "      <td>128497.710865</td>\n",
       "    </tr>\n",
       "    <tr>\n",
       "      <th>4</th>\n",
       "      <td>F</td>\n",
       "      <td>62</td>\n",
       "      <td>4741.78</td>\n",
       "      <td>High</td>\n",
       "      <td>4740.78</td>\n",
       "      <td>Urban</td>\n",
       "      <td>82049.80</td>\n",
       "      <td>39386.919336</td>\n",
       "    </tr>\n",
       "    <tr>\n",
       "      <th>...</th>\n",
       "      <td>...</td>\n",
       "      <td>...</td>\n",
       "      <td>...</td>\n",
       "      <td>...</td>\n",
       "      <td>...</td>\n",
       "      <td>...</td>\n",
       "      <td>...</td>\n",
       "      <td>...</td>\n",
       "    </tr>\n",
       "    <tr>\n",
       "      <th>47292</th>\n",
       "      <td>F</td>\n",
       "      <td>62</td>\n",
       "      <td>2121.48</td>\n",
       "      <td>Low</td>\n",
       "      <td>2135.48</td>\n",
       "      <td>Rural</td>\n",
       "      <td>240291.63</td>\n",
       "      <td>78800.491330</td>\n",
       "    </tr>\n",
       "    <tr>\n",
       "      <th>47293</th>\n",
       "      <td>M</td>\n",
       "      <td>38</td>\n",
       "      <td>1506.72</td>\n",
       "      <td>Low</td>\n",
       "      <td>1505.72</td>\n",
       "      <td>Rural</td>\n",
       "      <td>218431.37</td>\n",
       "      <td>72483.293359</td>\n",
       "    </tr>\n",
       "    <tr>\n",
       "      <th>47294</th>\n",
       "      <td>F</td>\n",
       "      <td>20</td>\n",
       "      <td>1595.10</td>\n",
       "      <td>Low</td>\n",
       "      <td>1582.10</td>\n",
       "      <td>Semi-Urban</td>\n",
       "      <td>154458.88</td>\n",
       "      <td>52462.861498</td>\n",
       "    </tr>\n",
       "    <tr>\n",
       "      <th>47295</th>\n",
       "      <td>F</td>\n",
       "      <td>50</td>\n",
       "      <td>2002.27</td>\n",
       "      <td>Low</td>\n",
       "      <td>2007.27</td>\n",
       "      <td>Semi-Urban</td>\n",
       "      <td>72277.78</td>\n",
       "      <td>22909.596763</td>\n",
       "    </tr>\n",
       "    <tr>\n",
       "      <th>47296</th>\n",
       "      <td>F</td>\n",
       "      <td>46</td>\n",
       "      <td>492.91</td>\n",
       "      <td>Low</td>\n",
       "      <td>497.91</td>\n",
       "      <td>Rural</td>\n",
       "      <td>24597.61</td>\n",
       "      <td>5941.989388</td>\n",
       "    </tr>\n",
       "  </tbody>\n",
       "</table>\n",
       "<p>47251 rows × 8 columns</p>\n",
       "</div>"
      ],
      "text/plain": [
       "      Gender  Age  Income (USD) Income Stability  Property Age  \\\n",
       "0          F   19       1641.25              Low       1651.25   \n",
       "1          M   29       1989.71              Low       1990.71   \n",
       "2          F   37       1849.91              Low       1856.91   \n",
       "3          M   65       2735.18             High       2747.18   \n",
       "4          F   62       4741.78             High       4740.78   \n",
       "...      ...  ...           ...              ...           ...   \n",
       "47292      F   62       2121.48              Low       2135.48   \n",
       "47293      M   38       1506.72              Low       1505.72   \n",
       "47294      F   20       1595.10              Low       1582.10   \n",
       "47295      F   50       2002.27              Low       2007.27   \n",
       "47296      F   46        492.91              Low        497.91   \n",
       "\n",
       "      Property Location  Property Price  Loan Sanction Amount (USD)  \n",
       "0                 Rural        59641.82                21026.420753  \n",
       "1                 Urban       179858.51                60595.183366  \n",
       "2                 Rural       117297.62                39181.648002  \n",
       "3                 Rural       354417.72               128497.710865  \n",
       "4                 Urban        82049.80                39386.919336  \n",
       "...                 ...             ...                         ...  \n",
       "47292             Rural       240291.63                78800.491330  \n",
       "47293             Rural       218431.37                72483.293359  \n",
       "47294        Semi-Urban       154458.88                52462.861498  \n",
       "47295        Semi-Urban        72277.78                22909.596763  \n",
       "47296             Rural        24597.61                 5941.989388  \n",
       "\n",
       "[47251 rows x 8 columns]"
      ]
     },
     "execution_count": 8,
     "metadata": {},
     "output_type": "execute_result"
    }
   ],
   "source": [
    "df = preprocessing_data(df.copy())\n",
    "df"
   ]
  },
  {
   "cell_type": "markdown",
   "metadata": {
    "id": "hEu9oydOjZem"
   },
   "source": [
    "## Feature Engineering"
   ]
  },
  {
   "cell_type": "code",
   "execution_count": 9,
   "metadata": {
    "id": "ee4UO0d_2-ED"
   },
   "outputs": [],
   "source": [
    "def normalize_data(df):\n",
    "    df = df.copy()# Todo: normalize data into numerical data\n",
    "    for col in df.columns: #tự động hóa cho mỗi cột dữ liệu được chuyển sang category\n",
    "        if(df.dtypes[col]=='O'):  #lý do sử dụng dòng for là bởi vì khi những dữ liệu thực tế thì sẽ có khá là nhiều những cột cần phải chuyển sang category \n",
    "            if len(df[col].unique()) == 2:\n",
    "                df[col] = df[col].apply(lambda x: 0 if x==df[col][0] else 1)\n",
    "            elif len(df[col].unique()) > 2:\n",
    "                df[col] = df[col].apply(lambda x: 0 if x==df[col][0] else 1 if x==df[col][1] else 2)\n",
    "    return df"
   ]
  },
  {
   "cell_type": "code",
   "execution_count": 10,
   "metadata": {},
   "outputs": [
    {
     "data": {
      "text/html": [
       "<div>\n",
       "<style scoped>\n",
       "    .dataframe tbody tr th:only-of-type {\n",
       "        vertical-align: middle;\n",
       "    }\n",
       "\n",
       "    .dataframe tbody tr th {\n",
       "        vertical-align: top;\n",
       "    }\n",
       "\n",
       "    .dataframe thead th {\n",
       "        text-align: right;\n",
       "    }\n",
       "</style>\n",
       "<table border=\"1\" class=\"dataframe\">\n",
       "  <thead>\n",
       "    <tr style=\"text-align: right;\">\n",
       "      <th></th>\n",
       "      <th>Gender</th>\n",
       "      <th>Age</th>\n",
       "      <th>Income (USD)</th>\n",
       "      <th>Income Stability</th>\n",
       "      <th>Property Age</th>\n",
       "      <th>Property Location</th>\n",
       "      <th>Property Price</th>\n",
       "      <th>Loan Sanction Amount (USD)</th>\n",
       "    </tr>\n",
       "  </thead>\n",
       "  <tbody>\n",
       "    <tr>\n",
       "      <th>0</th>\n",
       "      <td>0</td>\n",
       "      <td>19</td>\n",
       "      <td>1641.25</td>\n",
       "      <td>0</td>\n",
       "      <td>1651.25</td>\n",
       "      <td>0</td>\n",
       "      <td>59641.82</td>\n",
       "      <td>21026.420753</td>\n",
       "    </tr>\n",
       "    <tr>\n",
       "      <th>1</th>\n",
       "      <td>1</td>\n",
       "      <td>29</td>\n",
       "      <td>1989.71</td>\n",
       "      <td>0</td>\n",
       "      <td>1990.71</td>\n",
       "      <td>1</td>\n",
       "      <td>179858.51</td>\n",
       "      <td>60595.183366</td>\n",
       "    </tr>\n",
       "    <tr>\n",
       "      <th>2</th>\n",
       "      <td>0</td>\n",
       "      <td>37</td>\n",
       "      <td>1849.91</td>\n",
       "      <td>0</td>\n",
       "      <td>1856.91</td>\n",
       "      <td>0</td>\n",
       "      <td>117297.62</td>\n",
       "      <td>39181.648002</td>\n",
       "    </tr>\n",
       "    <tr>\n",
       "      <th>3</th>\n",
       "      <td>1</td>\n",
       "      <td>65</td>\n",
       "      <td>2735.18</td>\n",
       "      <td>1</td>\n",
       "      <td>2747.18</td>\n",
       "      <td>0</td>\n",
       "      <td>354417.72</td>\n",
       "      <td>128497.710865</td>\n",
       "    </tr>\n",
       "    <tr>\n",
       "      <th>4</th>\n",
       "      <td>0</td>\n",
       "      <td>62</td>\n",
       "      <td>4741.78</td>\n",
       "      <td>1</td>\n",
       "      <td>4740.78</td>\n",
       "      <td>1</td>\n",
       "      <td>82049.80</td>\n",
       "      <td>39386.919336</td>\n",
       "    </tr>\n",
       "    <tr>\n",
       "      <th>...</th>\n",
       "      <td>...</td>\n",
       "      <td>...</td>\n",
       "      <td>...</td>\n",
       "      <td>...</td>\n",
       "      <td>...</td>\n",
       "      <td>...</td>\n",
       "      <td>...</td>\n",
       "      <td>...</td>\n",
       "    </tr>\n",
       "    <tr>\n",
       "      <th>47292</th>\n",
       "      <td>0</td>\n",
       "      <td>62</td>\n",
       "      <td>2121.48</td>\n",
       "      <td>0</td>\n",
       "      <td>2135.48</td>\n",
       "      <td>0</td>\n",
       "      <td>240291.63</td>\n",
       "      <td>78800.491330</td>\n",
       "    </tr>\n",
       "    <tr>\n",
       "      <th>47293</th>\n",
       "      <td>1</td>\n",
       "      <td>38</td>\n",
       "      <td>1506.72</td>\n",
       "      <td>0</td>\n",
       "      <td>1505.72</td>\n",
       "      <td>0</td>\n",
       "      <td>218431.37</td>\n",
       "      <td>72483.293359</td>\n",
       "    </tr>\n",
       "    <tr>\n",
       "      <th>47294</th>\n",
       "      <td>0</td>\n",
       "      <td>20</td>\n",
       "      <td>1595.10</td>\n",
       "      <td>0</td>\n",
       "      <td>1582.10</td>\n",
       "      <td>2</td>\n",
       "      <td>154458.88</td>\n",
       "      <td>52462.861498</td>\n",
       "    </tr>\n",
       "    <tr>\n",
       "      <th>47295</th>\n",
       "      <td>0</td>\n",
       "      <td>50</td>\n",
       "      <td>2002.27</td>\n",
       "      <td>0</td>\n",
       "      <td>2007.27</td>\n",
       "      <td>2</td>\n",
       "      <td>72277.78</td>\n",
       "      <td>22909.596763</td>\n",
       "    </tr>\n",
       "    <tr>\n",
       "      <th>47296</th>\n",
       "      <td>0</td>\n",
       "      <td>46</td>\n",
       "      <td>492.91</td>\n",
       "      <td>0</td>\n",
       "      <td>497.91</td>\n",
       "      <td>0</td>\n",
       "      <td>24597.61</td>\n",
       "      <td>5941.989388</td>\n",
       "    </tr>\n",
       "  </tbody>\n",
       "</table>\n",
       "<p>47251 rows × 8 columns</p>\n",
       "</div>"
      ],
      "text/plain": [
       "       Gender  Age  Income (USD)  Income Stability  Property Age  \\\n",
       "0           0   19       1641.25                 0       1651.25   \n",
       "1           1   29       1989.71                 0       1990.71   \n",
       "2           0   37       1849.91                 0       1856.91   \n",
       "3           1   65       2735.18                 1       2747.18   \n",
       "4           0   62       4741.78                 1       4740.78   \n",
       "...       ...  ...           ...               ...           ...   \n",
       "47292       0   62       2121.48                 0       2135.48   \n",
       "47293       1   38       1506.72                 0       1505.72   \n",
       "47294       0   20       1595.10                 0       1582.10   \n",
       "47295       0   50       2002.27                 0       2007.27   \n",
       "47296       0   46        492.91                 0        497.91   \n",
       "\n",
       "       Property Location  Property Price  Loan Sanction Amount (USD)  \n",
       "0                      0        59641.82                21026.420753  \n",
       "1                      1       179858.51                60595.183366  \n",
       "2                      0       117297.62                39181.648002  \n",
       "3                      0       354417.72               128497.710865  \n",
       "4                      1        82049.80                39386.919336  \n",
       "...                  ...             ...                         ...  \n",
       "47292                  0       240291.63                78800.491330  \n",
       "47293                  0       218431.37                72483.293359  \n",
       "47294                  2       154458.88                52462.861498  \n",
       "47295                  2        72277.78                22909.596763  \n",
       "47296                  0        24597.61                 5941.989388  \n",
       "\n",
       "[47251 rows x 8 columns]"
      ]
     },
     "execution_count": 10,
     "metadata": {},
     "output_type": "execute_result"
    }
   ],
   "source": [
    "normalize_data(df)"
   ]
  },
  {
   "cell_type": "code",
   "execution_count": 11,
   "metadata": {
    "id": "AmepvqLbknvO"
   },
   "outputs": [
    {
     "data": {
      "text/plain": [
       "<AxesSubplot:>"
      ]
     },
     "execution_count": 11,
     "metadata": {},
     "output_type": "execute_result"
    },
    {
     "data": {
      "image/png": "[encoded data removed]",
      "text/plain": [
       "<Figure size 640x480 with 2 Axes>"
      ]
     },
     "metadata": {},
     "output_type": "display_data"
    }
   ],
   "source": [
    "# Heatmap\n",
    "import seaborn as sns\n",
    "\n",
    "df = normalize_data(df.copy())\n",
    "sns.heatmap(df.corr()) # Show heatmap after normalized data"
   ]
  },
  {
   "cell_type": "markdown",
   "metadata": {
    "id": "fzgR-i-gE1hc"
   },
   "source": [
    "# Apply machine learning model"
   ]
  },
  {
   "cell_type": "markdown",
   "metadata": {
    "id": "ppt3beFBjnID"
   },
   "source": [
    "## Train-test split"
   ]
  },
  {
   "cell_type": "code",
   "execution_count": 12,
   "metadata": {
    "id": "dodR58Ha3wgf"
   },
   "outputs": [],
   "source": [
    "from sklearn.model_selection import train_test_split\n",
    "from sklearn.metrics import mean_absolute_error"
   ]
  },
  {
   "cell_type": "code",
   "execution_count": 13,
   "metadata": {
    "id": "mBo9kxbmSZiF"
   },
   "outputs": [],
   "source": [
    "def prepare_X_y(df):\n",
    "    # Split data into X and y. Return two dataframes\n",
    "    columns = df.columns.tolist()     # Columns name\n",
    "    columns.remove('Loan Sanction Amount (USD)')   \n",
    "    X = df[columns] # Todo: Select features\n",
    "    y = df['Loan Sanction Amount (USD)'] # Todo: Select label\n",
    "    return X, y\n",
    "\n",
    "X, y = prepare_X_y(df)"
   ]
  },
  {
   "cell_type": "code",
   "execution_count": 14,
   "metadata": {
    "id": "oanMcOPgScf7"
   },
   "outputs": [],
   "source": [
    "def split_train_test(X, y, train_size=0.7):\n",
    "    # Use sklearn train_test_split to split X and y into 2 sets: train set and test set. With train_size is the proportion of train_set and fix the random_state with a number\n",
    "    trainX, testX ,trainY, testY = train_test_split(X, y, train_size = train_size, random_state = 50) \n",
    "    print('Training:' + str(trainX.shape))\n",
    "    print('Test:' + str(testX.shape))\n",
    "\n",
    "    return trainX, testX ,trainY, testY"
   ]
  },
  {
   "cell_type": "code",
   "execution_count": 15,
   "metadata": {
    "id": "NFvHM8hA4vlr"
   },
   "outputs": [
    {
     "name": "stdout",
     "output_type": "stream",
     "text": [
      "Training:(33075, 7)\n",
      "Test:(14176, 7)\n"
     ]
    }
   ],
   "source": [
    "TRAIN_SIZE = 0.7\n",
    "\n",
    "trainX, testX ,trainY, testY = split_train_test(X, y, train_size=TRAIN_SIZE)"
   ]
  },
  {
   "cell_type": "markdown",
   "metadata": {
    "id": "1xECUjRuFy2e"
   },
   "source": [
    "## Basic Linear Regression"
   ]
  },
  {
   "cell_type": "code",
   "execution_count": 16,
   "metadata": {
    "id": "6aIK-of7E6Wv"
   },
   "outputs": [
    {
     "name": "stdout",
     "output_type": "stream",
     "text": [
      "mean absolute error of linear model on train set  134.79317051486197\n",
      "mean absolute error of linear model on test set  115.96409349175835\n",
      "[-2.43535732e+02 -7.91689564e+01  5.00054595e-01  1.11517477e+04\n",
      "  5.27898381e-01 -1.37834783e+02  3.36260520e-01]\n",
      "\n",
      "828.4171865842\n"
     ]
    }
   ],
   "source": [
    "from sklearn.linear_model import LinearRegression\n",
    "\n",
    "\n",
    "def build_linear_model(X, y):\n",
    "    model = LinearRegression(fit_intercept=True)   \n",
    "    model.fit(trainX, trainY) \n",
    "\n",
    "    return model\n",
    "\n",
    "model = build_linear_model(trainX, trainY)\n",
    "# Compare on training dataset\n",
    "pred = model.predict(trainX)   \n",
    "print(\"mean absolute error of linear model on train set \", mean_absolute_error(y_pred=pred, y_true=trainY) )\n",
    "pred = model.predict(testX)   \n",
    "print(\"mean absolute error of linear model on test set \", mean_absolute_error(y_pred=pred, y_true=testY) )\n",
    "\n",
    "print(model.coef_) # print coefficient\n",
    "print()\n",
    "print(model.intercept_) # print intercept_\n"
   ]
  },
  {
   "cell_type": "code",
   "execution_count": 17,
   "metadata": {
    "id": "snbiK5iHFJb_"
   },
   "outputs": [
    {
     "name": "stdout",
     "output_type": "stream",
     "text": [
      "mean absolute error of linear model on train set  135.86182375880375\n",
      "mean absolute error of linear model on test set  116.94608054276411\n",
      "[-2.39514137e+02 -7.90365939e+01  8.44615805e-01  1.11356985e+04\n",
      "  1.83148163e-01 -1.36350419e+02  3.36261210e-01]\n",
      "\n",
      "821.4275299408764\n"
     ]
    },
    {
     "name": "stderr",
     "output_type": "stream",
     "text": [
      "C:\\Users\\xuong\\anaconda3\\lib\\site-packages\\sklearn\\linear_model\\_coordinate_descent.py:648: ConvergenceWarning: Objective did not converge. You might want to increase the number of iterations, check the scale of the features or consider increasing regularisation. Duality gap: 3.812e+10, tolerance: 3.485e+09\n",
      "  model = cd_fast.enet_coordinate_descent(\n"
     ]
    }
   ],
   "source": [
    "from sklearn.linear_model import Lasso\n",
    "\n",
    "\n",
    "def build_lasso_model(X, y):\n",
    "    model = Lasso(fit_intercept=True)# Todo: use sklearn model and config your parameters\n",
    "    model.fit(trainX, trainY) # Todo: fit your model with X, y\n",
    "\n",
    "    return model\n",
    "\n",
    "model = build_lasso_model(trainX, trainY)\n",
    "# Compare on training dataset\n",
    "pred = model.predict(trainX)   \n",
    "print(\"mean absolute error of linear model on train set \", mean_absolute_error(y_pred=pred, y_true=trainY) )\n",
    "pred = model.predict(testX)   \n",
    "print(\"mean absolute error of linear model on test set \", mean_absolute_error(y_pred=pred, y_true=testY) )\n",
    "\n",
    "print(model.coef_) # print coefficient\n",
    "print()\n",
    "print(model.intercept_) # print intercept_\n"
   ]
  },
  {
   "cell_type": "code",
   "execution_count": 18,
   "metadata": {
    "id": "_xH5lqi35WAJ"
   },
   "outputs": [
    {
     "name": "stdout",
     "output_type": "stream",
     "text": [
      "mean absolute error of linear model on train set  135.12063191989796\n",
      "mean absolute error of linear model on test set  116.27403556108263\n",
      "[-2.43470632e+02 -7.91265051e+01  5.01746365e-01  1.11464709e+04\n",
      "  5.26137855e-01 -1.37814734e+02  3.36260783e-01]\n",
      "\n",
      "827.2798741739462\n"
     ]
    }
   ],
   "source": [
    "from sklearn.linear_model import Ridge\n",
    "\n",
    "\n",
    "def build_ridge_model(X, y):\n",
    "    model = Ridge(fit_intercept=True)# Todo: use sklearn model and config your parameters\n",
    "    model.fit(trainX, trainY) # Todo: fit your model with X, y\n",
    "\n",
    "    return model\n",
    "\n",
    "model = build_ridge_model(trainX, trainY)\n",
    "# Compare on training dataset\n",
    "pred = model.predict(trainX)   \n",
    "print(\"mean absolute error of linear model on train set \", mean_absolute_error(y_pred=pred, y_true=trainY) )\n",
    "pred = model.predict(testX)   \n",
    "print(\"mean absolute error of linear model on test set \", mean_absolute_error(y_pred=pred, y_true=testY) )\n",
    "\n",
    "print(model.coef_) # print coefficient\n",
    "print()\n",
    "print(model.intercept_) # print intercept_\n"
   ]
  },
  {
   "cell_type": "code",
   "execution_count": 19,
   "metadata": {
    "id": "hOZ7NPAG53rg"
   },
   "outputs": [
    {
     "name": "stdout",
     "output_type": "stream",
     "text": [
      "mean absolute error of linear model on train set  1758.5953341070247\n",
      "mean absolute error of linear model on test set  1740.8507733500455\n",
      "[-5.82778262e+01  3.65626903e-01  9.54006199e-01  1.26209136e+03\n",
      " -5.51152585e-02 -6.42583375e+01  3.36753134e-01]\n",
      "\n",
      "-1369.27190945662\n"
     ]
    },
    {
     "name": "stderr",
     "output_type": "stream",
     "text": [
      "C:\\Users\\xuong\\anaconda3\\lib\\site-packages\\sklearn\\linear_model\\_coordinate_descent.py:648: ConvergenceWarning: Objective did not converge. You might want to increase the number of iterations, check the scale of the features or consider increasing regularisation. Duality gap: 1.573e+11, tolerance: 3.485e+09\n",
      "  model = cd_fast.enet_coordinate_descent(\n"
     ]
    }
   ],
   "source": [
    "from sklearn.linear_model import ElasticNet\n",
    "\n",
    "\n",
    "def build_elastic_model(X, y):\n",
    "    model = ElasticNet(fit_intercept=True)# Todo: use sklearn model and config your parameters\n",
    "    model.fit(trainX, trainY) # Todo: fit your model with X, y\n",
    "\n",
    "    return model\n",
    "\n",
    "model = build_elastic_model(trainX, trainY)\n",
    "# Compare on training dataset\n",
    "pred = model.predict(trainX)   \n",
    "print(\"mean absolute error of linear model on train set \", mean_absolute_error(y_pred=pred, y_true=trainY) )\n",
    "pred = model.predict(testX)   \n",
    "print(\"mean absolute error of linear model on test set \", mean_absolute_error(y_pred=pred, y_true=testY) )\n",
    "\n",
    "print(model.coef_) # print coefficient\n",
    "print()\n",
    "print(model.intercept_) # print intercept_\n"
   ]
  },
  {
   "cell_type": "markdown",
   "metadata": {},
   "source": [
    "#### Kết luận: nhìn tổng quan mà nói thì 3 model linear regression, lasso, Ridge có MAE khá là tương đồng với nhau\n",
    "#### Có thể nói rằng 3 mô hình này đưa ra kết quả khá tốt \n",
    "#### nhưng nhìn chi tiết mà đánh giá thì linear regression có MAE nhỏ nhất so với 2 thuật toán kia.\n",
    "#### còn đôi với model ElasticNet thì lại cho ra MAE khá lớn có thể nói rằng mô hình này khá tệ đôi với bộ dataset này\n"
   ]
  },
  {
   "cell_type": "markdown",
   "metadata": {
    "id": "4SDs25IOFoBw"
   },
   "source": [
    "## Polynomial Transform "
   ]
  },
  {
   "cell_type": "markdown",
   "metadata": {
    "id": "mkeldd8AF_Ju"
   },
   "source": [
    "When the data feature does not conform to a linear function, a linear regression cannot be applied directly to the original data. Then, there are many possibilities that the data feature conforms to the polynomial function. Scikit-Learn supports converting data features to polynomials through ``PolynomialFeatures``.\n",
    "\n",
    "$$\n",
    "y = a_0 + a_1 x + a_2 x^2 + a_3 x^3 + \\cdots\n",
    "$$\n",
    "\n",
    "The formula above uses the transformation of the value $x$ from one dimension to the other, with the aim of being able to use linear regression to find complex relationships between $x$ and $y$."
   ]
  },
  {
   "cell_type": "code",
   "execution_count": 20,
   "metadata": {
    "id": "PXhjw_utFxzS"
   },
   "outputs": [
    {
     "name": "stdout",
     "output_type": "stream",
     "text": [
      "mean absolute error of linear model (with poly transform) on train set  153.79184223309656\n",
      "mean absolute error of linear model (with poly transform) on test set  135.27518866360919\n"
     ]
    }
   ],
   "source": [
    "#Linear Regression with Polynomial Transform\n",
    "from sklearn.preprocessing import PolynomialFeatures\n",
    "from sklearn.pipeline import make_pipeline\n",
    "\n",
    "def build_pipeline(X, y):\n",
    "    poly_model = make_pipeline(PolynomialFeatures(2, include_bias=False), LinearRegression())\n",
    "    poly_model.fit(X, y)  \n",
    "\n",
    "    return poly_model\n",
    "\n",
    "poly_model = build_pipeline(trainX, trainY)\n",
    "# Compare on training dataset\n",
    "poly_pred = poly_model.predict(trainX)   \n",
    "print(\"mean absolute error of linear model (with poly transform) on train set \", mean_absolute_error(y_pred=poly_pred, y_true=trainY) )\n",
    "\n",
    "poly_pred = poly_model.predict(testX)\n",
    "print(\"mean absolute error of linear model (with poly transform) on test set \", mean_absolute_error(y_pred=poly_pred, y_true=testY))"
   ]
  },
  {
   "cell_type": "markdown",
   "metadata": {},
   "source": [
    "#### Dựa trên kết quả của cả 2 khi có và không sử dụng PolynomialFeatures thì kết quả \n",
    "#### của việc không sử dụng PolynomialFeatures cho ra số mean ở 2 data train và test nhỏ hơn nhiều so với việc sử dụng\n",
    "#### có thể nói việc không sử dụng PolynomialFeatures sẽ làm cho mô hình hoạt động tốt hơn ở dataset này"
   ]
  },
  {
   "cell_type": "code",
   "execution_count": null,
   "metadata": {},
   "outputs": [],
   "source": []
  }
 ],
 "metadata": {
  "colab": {
   "authorship_tag": "ABX9TyOPDirer5hA1Mu53HldXIaP",
   "provenance": []
  },
  "kernelspec": {
   "display_name": "Python 3 (ipykernel)",
   "language": "python",
   "name": "python3"
  },
  "language_info": {
   "codemirror_mode": {
    "name": "ipython",
    "version": 3
   },
   "file_extension": ".py",
   "mimetype": "text/x-python",
   "name": "python",
   "nbconvert_exporter": "python",
   "pygments_lexer": "ipython3",
   "version": "3.9.13"
  }
 },
 "nbformat": 4,
 "nbformat_minor": 1
}
